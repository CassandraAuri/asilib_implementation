{
 "cells": [
  {
   "cell_type": "markdown",
   "metadata": {},
   "source": [
    "# Plotting and analyzing ASI mosaics"
   ]
  },
  {
   "cell_type": "code",
   "execution_count": 21,
   "metadata": {},
   "outputs": [
    {
     "name": "stdout",
     "output_type": "stream",
     "text": [
      "asilib version: 0.18.1\n"
     ]
    }
   ],
   "source": [
    "from datetime import datetime\n",
    "    \n",
    "import matplotlib.pyplot as plt\n",
    "import matplotlib.colors\n",
    "import aacgmv2\n",
    "import numpy as np\n",
    "\n",
    "import asilib\n",
    "import asilib.asi\n",
    "import asilib.map\n",
    "\n",
    "print(f'asilib version: {asilib.__version__}')"
   ]
  },
  {
   "cell_type": "markdown",
   "metadata": {},
   "source": [
    "We first create an `asilib.Imagers()` object consisting of TREx-RGB `asilib.Imagers()` defined a list of location_codes."
   ]
  },
  {
   "cell_type": "code",
   "execution_count": 2,
   "metadata": {},
   "outputs": [
    {
     "data": {
      "text/html": [
       "<div>\n",
       "<style scoped>\n",
       "    .dataframe tbody tr th:only-of-type {\n",
       "        vertical-align: middle;\n",
       "    }\n",
       "\n",
       "    .dataframe tbody tr th {\n",
       "        vertical-align: top;\n",
       "    }\n",
       "\n",
       "    .dataframe thead th {\n",
       "        text-align: right;\n",
       "    }\n",
       "</style>\n",
       "<table border=\"1\" class=\"dataframe\">\n",
       "  <thead>\n",
       "    <tr style=\"text-align: right;\">\n",
       "      <th></th>\n",
       "      <th>array</th>\n",
       "      <th>location_code</th>\n",
       "      <th>name</th>\n",
       "      <th>latitude</th>\n",
       "      <th>longitude</th>\n",
       "    </tr>\n",
       "  </thead>\n",
       "  <tbody>\n",
       "    <tr>\n",
       "      <th>0</th>\n",
       "      <td>TREx_RGB</td>\n",
       "      <td>ATHA</td>\n",
       "      <td>Athabasca</td>\n",
       "      <td>54.60</td>\n",
       "      <td>-113.64</td>\n",
       "    </tr>\n",
       "    <tr>\n",
       "      <th>1</th>\n",
       "      <td>TREx_RGB</td>\n",
       "      <td>FSMI</td>\n",
       "      <td>Fort Smith</td>\n",
       "      <td>60.03</td>\n",
       "      <td>-111.93</td>\n",
       "    </tr>\n",
       "    <tr>\n",
       "      <th>2</th>\n",
       "      <td>TREx_RGB</td>\n",
       "      <td>GILL</td>\n",
       "      <td>Gillam</td>\n",
       "      <td>56.38</td>\n",
       "      <td>-94.64</td>\n",
       "    </tr>\n",
       "    <tr>\n",
       "      <th>3</th>\n",
       "      <td>TREx_RGB</td>\n",
       "      <td>LUCK</td>\n",
       "      <td>Lucky Lake</td>\n",
       "      <td>51.15</td>\n",
       "      <td>-107.26</td>\n",
       "    </tr>\n",
       "    <tr>\n",
       "      <th>4</th>\n",
       "      <td>TREx_RGB</td>\n",
       "      <td>PINA</td>\n",
       "      <td>Pinawa</td>\n",
       "      <td>50.26</td>\n",
       "      <td>-95.87</td>\n",
       "    </tr>\n",
       "    <tr>\n",
       "      <th>5</th>\n",
       "      <td>TREx_RGB</td>\n",
       "      <td>RABB</td>\n",
       "      <td>Rabbit Lake</td>\n",
       "      <td>58.23</td>\n",
       "      <td>-103.68</td>\n",
       "    </tr>\n",
       "  </tbody>\n",
       "</table>\n",
       "</div>"
      ],
      "text/plain": [
       "      array location_code         name  latitude  longitude\n",
       "0  TREx_RGB          ATHA    Athabasca     54.60    -113.64\n",
       "1  TREx_RGB          FSMI   Fort Smith     60.03    -111.93\n",
       "2  TREx_RGB          GILL       Gillam     56.38     -94.64\n",
       "3  TREx_RGB          LUCK   Lucky Lake     51.15    -107.26\n",
       "4  TREx_RGB          PINA       Pinawa     50.26     -95.87\n",
       "5  TREx_RGB          RABB  Rabbit Lake     58.23    -103.68"
      ]
     },
     "execution_count": 2,
     "metadata": {},
     "output_type": "execute_result"
    }
   ],
   "source": [
    "asilib.asi.trex.trex_rgb_info()"
   ]
  },
  {
   "cell_type": "code",
   "execution_count": 13,
   "metadata": {},
   "outputs": [],
   "source": [
    "time = datetime(2021, 11, 4, 7, 3, 51)\n",
    "location_codes = ['FSMI', 'LUCK', 'RABB', 'PINA', 'GILL']\n",
    "map_alt = 110\n",
    "min_elevation = 10"
   ]
  },
  {
   "cell_type": "code",
   "execution_count": 14,
   "metadata": {},
   "outputs": [],
   "source": [
    "_imagers = []\n",
    "\n",
    "for location_code in location_codes:\n",
    "    _imagers.append(asilib.asi.trex.trex_rgb(location_code, time=time, alt=map_alt))\n",
    "\n",
    "asis = asilib.Imagers(_imagers)"
   ]
  },
  {
   "cell_type": "code",
   "execution_count": 28,
   "metadata": {},
   "outputs": [],
   "source": [
    "lon_bounds=(-125, -75)\n",
    "lat_bounds=(40, 70)\n",
    "\n",
    "lat_grid, lon_grid = np.meshgrid(np.linspace(*lat_bounds), np.linspace(*lon_bounds))\n",
    "# Need to pass flattened arrays since aacgmv2 does not work with n-D arrays.\n",
    "aacgm_lat_grid, aacgm_lon_grid, _ = aacgmv2.wrapper.convert_latlon_arr(\n",
    "    lat_grid.flatten(), lon_grid.flatten(), 110, time, method_code='G2A'\n",
    "    )\n",
    "aacgm_lat_grid = aacgm_lat_grid.reshape(lat_grid.shape)\n",
    "aacgm_lon_grid = aacgm_lon_grid.reshape(lon_grid.shape)"
   ]
  },
  {
   "cell_type": "code",
   "execution_count": null,
   "metadata": {},
   "outputs": [],
   "source": [
    "ax = asilib.map.create_simple_map(lon_bounds=lon_bounds, lat_bounds=lat_bounds)\n",
    "asis.plot_map(ax=ax, overlap=False, min_elevation=min_elevation)"
   ]
  },
  {
   "cell_type": "code",
   "execution_count": 6,
   "metadata": {},
   "outputs": [],
   "source": [
    "\n",
    "# lat_lon_points, intensities = asis.get_points(min_elevation=min_elevation)\n",
    "\n",
    "# fig = plt.figure(figsize=(12,5))\n",
    "# ax = asilib.map.create_simple_map(\n",
    "#     lon_bounds=(-140, -60), lat_bounds=(40, 82), fig_ax=(fig, 121)\n",
    "#     )\n",
    "# bx = asilib.map.create_simple_map(\n",
    "#     lon_bounds=(-140, -60), lat_bounds=(40, 82), fig_ax=(fig, 122)\n",
    "#     )\n",
    "# asis.plot_map(ax=ax, overlap=False, min_elevation=min_elevation)\n",
    "# bx.scatter(lat_lon_points[:, 1], lat_lon_points[:, 0], c=intensities, \n",
    "#             norm=matplotlib.colors.LogNorm())\n",
    "# ax.text(0.01, 0.99, f'(A) Mosaic using Imagers.plot_map()', transform=ax.transAxes, \n",
    "#         va='top', fontweight='bold', color='red')\n",
    "# bx.text(0.01, 0.99, f'(B) Mosaic from Imagers.get_points() scatter', transform=bx.transAxes,\n",
    "#         va='top', fontweight='bold', color='red')\n",
    "# fig.suptitle('Donovan et al. 2008 | First breakup of an auroral arc')\n",
    "# plt.tight_layout()"
   ]
  }
 ],
 "metadata": {
  "kernelspec": {
   "display_name": "asilib_dev_cartopy",
   "language": "python",
   "name": "python3"
  },
  "language_info": {
   "codemirror_mode": {
    "name": "ipython",
    "version": 3
   },
   "file_extension": ".py",
   "mimetype": "text/x-python",
   "name": "python",
   "nbconvert_exporter": "python",
   "pygments_lexer": "ipython3",
   "version": "3.11.3"
  },
  "orig_nbformat": 4
 },
 "nbformat": 4,
 "nbformat_minor": 2
}
